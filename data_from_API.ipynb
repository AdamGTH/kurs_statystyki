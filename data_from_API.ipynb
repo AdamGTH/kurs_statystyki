{
  "nbformat": 4,
  "nbformat_minor": 0,
  "metadata": {
    "colab": {
      "provenance": [],
      "collapsed_sections": []
    },
    "kernelspec": {
      "name": "python3",
      "display_name": "Python 3"
    },
    "language_info": {
      "name": "python"
    }
  },
  "cells": [
    {
      "cell_type": "code",
      "execution_count": 1,
      "metadata": {
        "colab": {
          "base_uri": "https://localhost:8080/",
          "height": 300
        },
        "id": "I31jtweBRcUZ",
        "outputId": "b4fd03f4-daf5-4214-b800-94bb146dcf07"
      },
      "outputs": [
        {
          "output_type": "stream",
          "name": "stdout",
          "text": [
            "average from = 17714.0000  to = 24112.0000\n",
            "{'type': 'b2b', 'salary': None}\n"
          ]
        },
        {
          "output_type": "display_data",
          "data": {
            "text/plain": [
              "<Figure size 432x288 with 1 Axes>"
            ],
            "image/png": "[encoded data removed]"
          },
          "metadata": {
            "needs_background": "light"
          }
        }
      ],
      "source": [
        "import requests\n",
        "r = requests.get(\"https://justjoin.it/api/offers\")\n",
        "dataset = r.json()\n",
        "\n",
        "eur = requests.get(\"http://api.nbp.pl/api/exchangerates/rates/a/eur/\") \n",
        "eur_to_pln = eur.json()\n",
        "\n",
        "usd = requests.get(\"http://api.nbp.pl/api/exchangerates/rates/a/usd/\") \n",
        "usd_to_pln = usd.json()\n",
        "\n",
        "gbp = requests.get(\"http://api.nbp.pl/api/exchangerates/rates/a/gbp/\") \n",
        "gbp_to_pln = gbp.json()\n",
        "\n",
        "kurs_eur = eur_to_pln[\"rates\"][0][\"mid\"]\n",
        "kurs_usd = usd_to_pln[\"rates\"][0][\"mid\"]\n",
        "kurs_gbp = gbp_to_pln[\"rates\"][0][\"mid\"]\n",
        "average_from = 0\n",
        "average_to = 0\n",
        "lower_salaries = []\n",
        "higher_salaries = []\n",
        "for job_offer in dataset[0:100]:\n",
        "    try:\n",
        "         if job_offer[\"employment_types\"][0][\"salary\"][\"currency\"] == \"pln\":\n",
        "            lower_salaries.append(job_offer[\"employment_types\"][0][\"salary\"][\"from\"])\n",
        "            higher_salaries.append(job_offer[\"employment_types\"][0][\"salary\"][\"to\"])\n",
        "         \n",
        "         elif job_offer[\"employment_types\"][0][\"salary\"][\"currency\"] == \"eur\": \n",
        "              lower_salaries.append(job_offer[\"employment_types\"][0][\"salary\"][\"from\"] * kurs_eur)\n",
        "              higher_salaries.append(job_offer[\"employment_types\"][0][\"salary\"][\"to\"] * kurs_eur)\n",
        "\n",
        "         elif job_offer[\"employment_types\"][0][\"salary\"][\"currency\"] == \"usd\": \n",
        "              lower_salaries.append(job_offer[\"employment_types\"][0][\"salary\"][\"from\"] * kurs_usd)\n",
        "              higher_salaries.append(job_offer[\"employment_types\"][0][\"salary\"][\"to\"] * kurs_usd)\n",
        "\n",
        "         elif job_offer[\"employment_types\"][0][\"salary\"][\"currency\"] == \"usd\": \n",
        "              lower_salaries.append(job_offer[\"employment_types\"][0][\"salary\"][\"from\"] * kurs_gbp)\n",
        "              higher_salaries.append(job_offer[\"employment_types\"][0][\"salary\"][\"to\"] * kurs_gbp)\n",
        "\n",
        "         #print(job_offer[\"employment_types\"][0][\"salary\"])\n",
        "\n",
        "    except:\n",
        "        pass\n",
        "\n",
        "\n",
        "average_from = round(sum(lower_salaries) / len(lower_salaries))\n",
        "average_to = round(sum(higher_salaries) / len(higher_salaries))\n",
        "print(\"average from = {:.4f}  to = {:.4f}\".format(average_from, average_to))\n",
        "\n",
        "list_b2b = []\n",
        "#[list_b2b.append(x) for x in dataset[0:100][\"employment_types\"][0][\"type\"]]\n",
        "print(dataset[0][\"employment_types\"][0])\n",
        "\n",
        "import matplotlib\n",
        "import numpy as np\n",
        "import matplotlib.pyplot as plt\n",
        "\n",
        "plt.hist(lower_salaries, bins = 50, alpha = 0.5, label = \"from\")\n",
        "plt.hist(higher_salaries, bins = 50, alpha = 0.5, label = \"to\" )\n",
        "plt.legend(loc = \"upper right\")\n",
        "plt.show()\n",
        "\n",
        "\n"
      ]
    }
  ]
}